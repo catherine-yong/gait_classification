{
 "cells": [
  {
   "cell_type": "markdown",
   "id": "2272b44e",
   "metadata": {},
   "source": [
    "# Mediapipe : Utilisation dans le cadre de la caractérisation d'une démarche"
   ]
  },
  {
   "cell_type": "code",
   "execution_count": null,
   "id": "7a7a19c6",
   "metadata": {
    "scrolled": true
   },
   "outputs": [],
   "source": [
    "#pip install mediapipe opencv-python pandas scikit-learn"
   ]
  },
  {
   "cell_type": "code",
   "execution_count": 1,
   "id": "80650791",
   "metadata": {},
   "outputs": [],
   "source": [
    "import mediapipe as mp\n",
    "import cv2\n",
    "import numpy as np\n",
    "mp_drawing = mp.solutions.drawing_utils\n",
    "mp_pose = mp.solutions.pose"
   ]
  },
  {
   "cell_type": "markdown",
   "id": "dd83858d",
   "metadata": {},
   "source": [
    "## Calcul des angles"
   ]
  },
  {
   "cell_type": "code",
   "execution_count": 2,
   "id": "2b50ac3f",
   "metadata": {},
   "outputs": [],
   "source": [
    "def calculate_angles(a,b,c): #donc ici ça va etre notre angle abc genre b quoi\n",
    "    a = np.array(a) #premier\n",
    "    b = np.array(b) #deuxième\n",
    "    c = np.array(c) #troisième\n",
    "    \n",
    "    #on va faire le calcul en radian\n",
    "    radians = np.arctan2(c[1] - b[1], c[0] - b[0]) - np.arctan2(a[1] - b[1], a[0] - b[0]) \n",
    "    angle = np.abs(radians*180.0/np.pi)\n",
    "    \n",
    "    if angle > 180.0:\n",
    "        angle = 360 - angle\n",
    "        \n",
    "        return angle"
   ]
  },
  {
   "cell_type": "markdown",
   "id": "b6cad186",
   "metadata": {},
   "source": [
    "## Compteur de pas\n",
    "\n",
    "On enregistre la vidéo qui se trouvera sous le nom de gait_vid.avi (à ouvrir avec VLC). Cette vidéo comprend le squelette MediaPipe, l'angle du genou et le nombre de pas effectués."
   ]
  },
  {
   "cell_type": "markdown",
   "id": "0b00f43e",
   "metadata": {},
   "source": []
  },
  {
   "cell_type": "code",
   "execution_count": 35,
   "id": "a4c4cb87",
   "metadata": {},
   "outputs": [],
   "source": [
    "def gait_video():\n",
    "    \n",
    "    video = cv2.VideoCapture(0)\n",
    "    counter = 0 #compteur pour le comptage des mouvements\n",
    "    stage = None\n",
    "\n",
    "    if (video.isOpened() == False):\n",
    "        print(\"Error reading video file\")\n",
    "\n",
    "    frame_width = int(video.get(3))\n",
    "    frame_height = int(video.get(4))\n",
    "\n",
    "    size = (frame_width, frame_height)\n",
    "\n",
    "    result = cv2.VideoWriter('gait_vid.avi',cv2.VideoWriter_fourcc(*'MJPG'),10, size)\n",
    "\n",
    "\n",
    "    with mp_pose.Pose(min_detection_confidence=0.5, min_tracking_confidence=0.5) as pose:\n",
    "        while video.isOpened():\n",
    "            ret, frame = video.read() ## frame : video sans aucun filtre\n",
    "\n",
    "            # Recolor image to RGB\n",
    "            image = cv2.cvtColor(frame, cv2.COLOR_BGR2RGB) ## image : video avec mediapipe\n",
    "            image.flags.writeable = False\n",
    "\n",
    "            #Make detection\n",
    "            results = pose.process(image)\n",
    "\n",
    "            #Recolor image to BGR\n",
    "            image.flags.writeable = True\n",
    "            image = cv2.cvtColor(image, cv2.COLOR_RGB2BGR)\n",
    "\n",
    "            #EXTRACT LANDMARKS\n",
    "            try:\n",
    "                landmarks = results.pose_landmarks.landmark\n",
    "\n",
    "                #get coordinates\n",
    "                hip=[landmarks[mp_pose.PoseLandmark.LEFT_HIP.value].x,landmarks[mp_pose.PoseLandmark.LEFT_HIP.value].y]\n",
    "                knee=[landmarks[mp_pose.PoseLandmark.LEFT_KNEE.value].x,landmarks[mp_pose.PoseLandmark.LEFT_KNEE.value].y]\n",
    "                ankle=[landmarks[mp_pose.PoseLandmark.LEFT_ANKLE.value].x,landmarks[mp_pose.PoseLandmark.LEFT_ANKLE.value].y]\n",
    "\n",
    "                #calculate knee angle \n",
    "                angle = calculate_angles(hip, knee, ankle)\n",
    "\n",
    "                #visualize angle and counter\n",
    "                cv2.putText(image,str(angle) , tuple(np.multiply(knee,[640,480]).astype(int)),\n",
    "                            cv2.FONT_HERSHEY_SIMPLEX,0.5, (255,255,255),2,cv2.LINE_AA)\n",
    "                cv2.putText(image,str(counter),(30,30),cv2.FONT_HERSHEY_SIMPLEX,0.5, (255,255,255),2,cv2.LINE_AA)\n",
    "                #curl counter logic\n",
    "                if angle < 160:\n",
    "                    stage = \"down\"\n",
    "                if angle > 160 and stage == \"down\":\n",
    "                    stage = \"up\"\n",
    "                    counter +=1\n",
    "\n",
    "                #print(landmarks)\n",
    "            except:\n",
    "                pass\n",
    "            \n",
    "            #Render curl counter setup statux box\n",
    "            cv2.rectangle(image,(0,0),(100,70),(245,117,16),-1)\n",
    "\n",
    "            #Rep data\n",
    "            cv2.putText(image,'REPS' , (30,15),\n",
    "                        cv2.FONT_HERSHEY_SIMPLEX,0.5,(0,0,0),1, cv2.LINE_AA)\n",
    "\n",
    "            cv2.putText(image,str(counter),\n",
    "                        (40,50),\n",
    "                        cv2.FONT_HERSHEY_SIMPLEX,1,(255,255,255),1, cv2.LINE_AA)\n",
    "\n",
    "            #Render detections\n",
    "            mp_drawing.draw_landmarks(image, results.pose_landmarks, mp_pose.POSE_CONNECTIONS,\n",
    "                                    mp_drawing.DrawingSpec(color=(245,117,66), thickness=2, circle_radius=2),\n",
    "                                    mp_drawing.DrawingSpec(color=(245,66,230), thickness=2, circle_radius=2))\n",
    "\n",
    "            cv2.imshow('Gait + Mediapipe', image)\n",
    "\n",
    "            if ret == True:\n",
    "                #result.write(frame) ## choisir ici pour l'image sans le squelette Mediapipe\n",
    "                result.write(image) ## on enregistre l'image avec le squelette Mediapipe\n",
    "                #cv2.imshow('Gait', frame)\n",
    "\n",
    "                if counter == 2 or cv2.waitKey(1) & 0xFF == ord('q'): ## on s'arrête si on a fait 2 pas ou arrêt forcé\n",
    "                    #print(\"OK\")\n",
    "                    break\n",
    "\n",
    "            else:\n",
    "                print(\"KO\")\n",
    "                \n",
    "                break\n",
    "\n",
    "\n",
    "        video.release()\n",
    "        result.release()\n",
    "        cv2.destroyAllWindows()\n",
    "        return counter"
   ]
  },
  {
   "cell_type": "code",
   "execution_count": 36,
   "id": "f5096145",
   "metadata": {},
   "outputs": [
    {
     "data": {
      "text/plain": [
       "0"
      ]
     },
     "execution_count": 36,
     "metadata": {},
     "output_type": "execute_result"
    }
   ],
   "source": [
    "gait_video()"
   ]
  },
  {
   "cell_type": "code",
   "execution_count": 31,
   "id": "39f08a31",
   "metadata": {},
   "outputs": [],
   "source": [
    "def cut_video():\n",
    "    # couper la video en séquence de photos \n",
    "    \n",
    "    vidcap = cv2.VideoCapture('gait_vid.avi')\n",
    "    success,image = vidcap.read()\n",
    "    count = 0\n",
    "    while success:\n",
    "        # si on voit un pied, on enregistre la frame\n",
    "        cv2.imwrite(\"frame_%d.jpg\" % count, image)     # save frame as JPEG file      \n",
    "        success,image = vidcap.read()\n",
    "        #print('Read a new frame: ', success)\n",
    "        count += 1\n",
    "    "
   ]
  },
  {
   "cell_type": "code",
   "execution_count": 32,
   "id": "2a9eebdc",
   "metadata": {},
   "outputs": [],
   "source": [
    "cut_video()"
   ]
  },
  {
   "cell_type": "code",
   "execution_count": null,
   "id": "477802b9",
   "metadata": {},
   "outputs": [],
   "source": []
  },
  {
   "cell_type": "code",
   "execution_count": null,
   "id": "c5c75b79",
   "metadata": {},
   "outputs": [],
   "source": [
    "\n",
    "# a faire : tri des photos : choisir le 1er pas"
   ]
  }
 ],
 "metadata": {
  "kernelspec": {
   "display_name": "Python 3 (ipykernel)",
   "language": "python",
   "name": "python3"
  },
  "language_info": {
   "codemirror_mode": {
    "name": "ipython",
    "version": 3
   },
   "file_extension": ".py",
   "mimetype": "text/x-python",
   "name": "python",
   "nbconvert_exporter": "python",
   "pygments_lexer": "ipython3",
   "version": "3.9.12"
  }
 },
 "nbformat": 4,
 "nbformat_minor": 5
}
