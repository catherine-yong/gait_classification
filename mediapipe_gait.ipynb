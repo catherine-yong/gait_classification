{
 "cells": [
  {
   "cell_type": "code",
   "execution_count": null,
   "id": "7a7a19c6",
   "metadata": {
    "scrolled": true
   },
   "outputs": [],
   "source": [
    "#pip install mediapipe opencv-python pandas scikit-learn"
   ]
  },
  {
   "cell_type": "code",
   "execution_count": 2,
   "id": "80650791",
   "metadata": {},
   "outputs": [],
   "source": [
    "import mediapipe as mp\n",
    "import cv2\n",
    "import numpy as np\n",
    "mp_drawing = mp.solutions.drawing_utils\n",
    "mp_pose = mp.solutions.pose"
   ]
  },
  {
   "cell_type": "code",
   "execution_count": 3,
   "id": "f121034b",
   "metadata": {},
   "outputs": [],
   "source": [
    "cap = cv2.VideoCapture(0)\n",
    "with mp_pose.Pose(min_detection_confidence=0.5, min_tracking_confidence=0.5) as pose:\n",
    "    while cap.isOpened():\n",
    "        ret, frame = cap.read()\n",
    "    \n",
    "        # Recolor image to RGB\n",
    "        image = cv2.cvtColor(frame, cv2.COLOR_BGR2RGB)\n",
    "        image.flags.writeable = False\n",
    "    \n",
    "        #Make detection\n",
    "        results = pose.process(image)\n",
    "    \n",
    "        #Recolor image to BGR\n",
    "        image.flags.writeable = True\n",
    "        image = cv2.cvtColor(image, cv2.COLOR_RGB2BGR)\n",
    "        \n",
    "        #Render detections\n",
    "        mp_drawing.draw_landmarks(image, results.pose_landmarks, mp_pose.POSE_CONNECTIONS,\n",
    "                                mp_drawing.DrawingSpec(color=(245,117,66), thickness=2, circle_radius=2),\n",
    "                                mp_drawing.DrawingSpec(color=(245,66,230), thickness=2, circle_radius=2))\n",
    "        \n",
    "        cv2.imshow('Mediapipe Feed', image)\n",
    "\n",
    "        \n",
    "        if cv2.waitKey(10) & 0xFF == ord('q'):\n",
    "            break\n",
    "        \n",
    "    cap.release()\n",
    "    cv2.destroyAllWindows()"
   ]
  },
  {
   "cell_type": "code",
   "execution_count": 7,
   "id": "fde70bc2",
   "metadata": {},
   "outputs": [],
   "source": [
    "#mp_drawing.DrawingSpec??"
   ]
  },
  {
   "cell_type": "markdown",
   "id": "c279e3e1",
   "metadata": {},
   "source": [
    "## 1. Make some detections"
   ]
  },
  {
   "cell_type": "code",
   "execution_count": 4,
   "id": "27273555",
   "metadata": {},
   "outputs": [],
   "source": [
    "cap = cv2.VideoCapture(0)\n",
    "with mp_pose.Pose(min_detection_confidence=0.5, min_tracking_confidence=0.5) as pose:\n",
    "    while cap.isOpened():\n",
    "        ret, frame = cap.read()\n",
    "    \n",
    "        # Recolor image to RGB\n",
    "        image = cv2.cvtColor(frame, cv2.COLOR_BGR2RGB)\n",
    "        image.flags.writeable = False\n",
    "    \n",
    "        #Make detection\n",
    "        results = pose.process(image)\n",
    "    \n",
    "        #Recolor image to BGR\n",
    "        image.flags.writeable = True\n",
    "        image = cv2.cvtColor(image, cv2.COLOR_RGB2BGR)\n",
    "        \n",
    "        #EXTRACT LANDMARKS\n",
    "        try:\n",
    "            landmarks = results.pose_landmarks.landmark\n",
    "            #print(landmarks[mp_pose.PoseLandmark.NOSE.value])\n",
    "        except:\n",
    "            pass\n",
    "        \n",
    "        \n",
    "        \n",
    "        #Render detections\n",
    "        mp_drawing.draw_landmarks(image, results.pose_landmarks, mp_pose.POSE_CONNECTIONS,\n",
    "                                mp_drawing.DrawingSpec(color=(245,117,66), thickness=2, circle_radius=2),\n",
    "                                mp_drawing.DrawingSpec(color=(245,66,230), thickness=2, circle_radius=2))\n",
    "        \n",
    "        cv2.imshow('Mediapipe Feed', image)\n",
    "\n",
    "        \n",
    "        if cv2.waitKey(10) & 0xFF == ord('q'):\n",
    "            break\n",
    "        \n",
    "    cap.release()\n",
    "    cv2.destroyAllWindows()"
   ]
  },
  {
   "cell_type": "code",
   "execution_count": 17,
   "id": "6392c149",
   "metadata": {},
   "outputs": [],
   "source": [
    "#results.pose_landmarks"
   ]
  },
  {
   "cell_type": "code",
   "execution_count": 18,
   "id": "66f31b62",
   "metadata": {},
   "outputs": [
    {
     "data": {
      "text/plain": [
       "33"
      ]
     },
     "execution_count": 18,
     "metadata": {},
     "output_type": "execute_result"
    }
   ],
   "source": [
    "len(landmarks)"
   ]
  },
  {
   "cell_type": "code",
   "execution_count": 19,
   "id": "ab65b611",
   "metadata": {},
   "outputs": [
    {
     "name": "stdout",
     "output_type": "stream",
     "text": [
      "PoseLandmark.NOSE\n",
      "PoseLandmark.LEFT_EYE_INNER\n",
      "PoseLandmark.LEFT_EYE\n",
      "PoseLandmark.LEFT_EYE_OUTER\n",
      "PoseLandmark.RIGHT_EYE_INNER\n",
      "PoseLandmark.RIGHT_EYE\n",
      "PoseLandmark.RIGHT_EYE_OUTER\n",
      "PoseLandmark.LEFT_EAR\n",
      "PoseLandmark.RIGHT_EAR\n",
      "PoseLandmark.MOUTH_LEFT\n",
      "PoseLandmark.MOUTH_RIGHT\n",
      "PoseLandmark.LEFT_SHOULDER\n",
      "PoseLandmark.RIGHT_SHOULDER\n",
      "PoseLandmark.LEFT_ELBOW\n",
      "PoseLandmark.RIGHT_ELBOW\n",
      "PoseLandmark.LEFT_WRIST\n",
      "PoseLandmark.RIGHT_WRIST\n",
      "PoseLandmark.LEFT_PINKY\n",
      "PoseLandmark.RIGHT_PINKY\n",
      "PoseLandmark.LEFT_INDEX\n",
      "PoseLandmark.RIGHT_INDEX\n",
      "PoseLandmark.LEFT_THUMB\n",
      "PoseLandmark.RIGHT_THUMB\n",
      "PoseLandmark.LEFT_HIP\n",
      "PoseLandmark.RIGHT_HIP\n",
      "PoseLandmark.LEFT_KNEE\n",
      "PoseLandmark.RIGHT_KNEE\n",
      "PoseLandmark.LEFT_ANKLE\n",
      "PoseLandmark.RIGHT_ANKLE\n",
      "PoseLandmark.LEFT_HEEL\n",
      "PoseLandmark.RIGHT_HEEL\n",
      "PoseLandmark.LEFT_FOOT_INDEX\n",
      "PoseLandmark.RIGHT_FOOT_INDEX\n"
     ]
    }
   ],
   "source": [
    "for lndmrk in mp_pose.PoseLandmark:\n",
    "    print(lndmrk) #maping pour les landmarks "
   ]
  },
  {
   "cell_type": "code",
   "execution_count": 20,
   "id": "4c4431c2",
   "metadata": {},
   "outputs": [
    {
     "data": {
      "text/plain": [
       "x: 0.783143\n",
       "y: 1.0079758\n",
       "z: -0.51113653\n",
       "visibility: 0.9303115"
      ]
     },
     "execution_count": 20,
     "metadata": {},
     "output_type": "execute_result"
    }
   ],
   "source": [
    "landmarks[mp_pose.PoseLandmark.LEFT_SHOULDER.value]"
   ]
  },
  {
   "cell_type": "markdown",
   "id": "dd83858d",
   "metadata": {},
   "source": [
    "## Calcul des angles"
   ]
  },
  {
   "cell_type": "code",
   "execution_count": 5,
   "id": "2b50ac3f",
   "metadata": {},
   "outputs": [],
   "source": [
    "def calculate_angles(a,b,c): #doc ici ça va etre notre angle abc genre b quoi\n",
    "    a = np.array(a) #premier\n",
    "    b = np.array(b) #deuxième\n",
    "    c = np.array(c) #troisième\n",
    "    \n",
    "    #on va faire le calcul en radian\n",
    "    radians = np.arctan2(c[1] - b[1], c[0] - b[0]) - np.arctan2(a[1] - b[1], a[0] - b[0]) \n",
    "    angle = np.abs(radians*180.0/np.pi)\n",
    "    \n",
    "    if angle>180.0:\n",
    "        angle = 360 - angle\n",
    "        \n",
    "        return angle"
   ]
  },
  {
   "cell_type": "markdown",
   "id": "82bdd072",
   "metadata": {},
   "source": [
    "## Test"
   ]
  },
  {
   "cell_type": "code",
   "execution_count": 22,
   "id": "70fe3fd1",
   "metadata": {},
   "outputs": [
    {
     "data": {
      "text/plain": [
       "x: 0.510882\n",
       "y: 0.6653758\n",
       "z: -1.6214641\n",
       "visibility: 0.996659"
      ]
     },
     "execution_count": 22,
     "metadata": {},
     "output_type": "execute_result"
    }
   ],
   "source": [
    "landmarks[mp_pose.PoseLandmark.NOSE.value]"
   ]
  },
  {
   "cell_type": "code",
   "execution_count": 23,
   "id": "5497dedd",
   "metadata": {},
   "outputs": [
    {
     "data": {
      "text/plain": [
       "0"
      ]
     },
     "execution_count": 23,
     "metadata": {},
     "output_type": "execute_result"
    }
   ],
   "source": [
    "mp_pose.PoseLandmark.NOSE.value"
   ]
  },
  {
   "cell_type": "code",
   "execution_count": 24,
   "id": "12887d9b",
   "metadata": {},
   "outputs": [
    {
     "data": {
      "text/plain": [
       "<PoseLandmark.RIGHT_HIP: 24>"
      ]
     },
     "execution_count": 24,
     "metadata": {},
     "output_type": "execute_result"
    }
   ],
   "source": [
    "mp_pose.PoseLandmark.RIGHT_HIP"
   ]
  },
  {
   "cell_type": "code",
   "execution_count": 25,
   "id": "49124ddc",
   "metadata": {},
   "outputs": [
    {
     "data": {
      "text/plain": [
       "<PoseLandmark.LEFT_HIP: 23>"
      ]
     },
     "execution_count": 25,
     "metadata": {},
     "output_type": "execute_result"
    }
   ],
   "source": [
    "mp_pose.PoseLandmark.LEFT_HIP"
   ]
  },
  {
   "cell_type": "code",
   "execution_count": 26,
   "id": "804b77f7",
   "metadata": {},
   "outputs": [],
   "source": [
    "shoulder=[landmarks[mp_pose.PoseLandmark.LEFT_SHOULDER.value].x,landmarks[mp_pose.PoseLandmark.LEFT_SHOULDER.value].y]\n",
    "elbow=[landmarks[mp_pose.PoseLandmark.LEFT_ELBOW.value].x,landmarks[mp_pose.PoseLandmark.LEFT_ELBOW.value].y]\n",
    "wrist=[landmarks[mp_pose.PoseLandmark.LEFT_WRIST.value].x,landmarks[mp_pose.PoseLandmark.LEFT_WRIST.value].y]"
   ]
  },
  {
   "cell_type": "code",
   "execution_count": 27,
   "id": "5c88cb60",
   "metadata": {},
   "outputs": [
    {
     "data": {
      "text/plain": [
       "([0.7831429839134216, 1.0079758167266846],\n",
       " [0.9204801321029663, 1.4090139865875244],\n",
       " [0.8878351449966431, 1.6684880256652832])"
      ]
     },
     "execution_count": 27,
     "metadata": {},
     "output_type": "execute_result"
    }
   ],
   "source": [
    "shoulder, elbow, wrist"
   ]
  },
  {
   "cell_type": "code",
   "execution_count": 28,
   "id": "cafa7360",
   "metadata": {},
   "outputs": [
    {
     "data": {
      "text/plain": [
       "153.92519525848738"
      ]
     },
     "execution_count": 28,
     "metadata": {},
     "output_type": "execute_result"
    }
   ],
   "source": [
    "calculate_angles(shoulder, elbow, wrist)"
   ]
  },
  {
   "cell_type": "code",
   "execution_count": 29,
   "id": "7865f725",
   "metadata": {},
   "outputs": [],
   "source": [
    "hip=[landmarks[mp_pose.PoseLandmark.LEFT_HIP.value].x,landmarks[mp_pose.PoseLandmark.LEFT_HIP.value].y]\n",
    "knee=[landmarks[mp_pose.PoseLandmark.LEFT_KNEE.value].x,landmarks[mp_pose.PoseLandmark.LEFT_KNEE.value].y]\n",
    "ankle=[landmarks[mp_pose.PoseLandmark.LEFT_ANKLE.value].x,landmarks[mp_pose.PoseLandmark.LEFT_ANKLE.value].y]"
   ]
  },
  {
   "cell_type": "code",
   "execution_count": 30,
   "id": "bbb30eb3",
   "metadata": {},
   "outputs": [
    {
     "data": {
      "text/plain": [
       "([0.6914137601852417, 1.9500168561935425],\n",
       " [0.6970050930976868, 2.666975736618042],\n",
       " [0.7120870351791382, 3.334876775741577])"
      ]
     },
     "execution_count": 30,
     "metadata": {},
     "output_type": "execute_result"
    }
   ],
   "source": [
    "hip, knee, ankle"
   ]
  },
  {
   "cell_type": "code",
   "execution_count": 31,
   "id": "0bc97cf5",
   "metadata": {},
   "outputs": [],
   "source": [
    "calculate_angles(hip, knee, ankle)"
   ]
  },
  {
   "cell_type": "code",
   "execution_count": 4,
   "id": "1c0899d2",
   "metadata": {},
   "outputs": [],
   "source": [
    "cap = cv2.VideoCapture(0)\n",
    "with mp_pose.Pose(min_detection_confidence=0.5, min_tracking_confidence=0.5) as pose:\n",
    "    while cap.isOpened():\n",
    "        ret, frame = cap.read()\n",
    "    \n",
    "        # Recolor image to RGB\n",
    "        image = cv2.cvtColor(frame, cv2.COLOR_BGR2RGB)\n",
    "        image.flags.writeable = False\n",
    "    \n",
    "        #Make detection\n",
    "        results = pose.process(image)\n",
    "    \n",
    "        #Recolor image to BGR\n",
    "        image.flags.writeable = True\n",
    "        image = cv2.cvtColor(image, cv2.COLOR_RGB2BGR)\n",
    "        \n",
    "        #EXTRACT LANDMARKS\n",
    "        try:\n",
    "            landmarks = results.pose_landmarks.landmark\n",
    "\n",
    "            #get coordinates\n",
    "            hip=[landmarks[mp_pose.PoseLandmark.LEFT_HIP.value].x,landmarks[mp_pose.PoseLandmark.LEFT_HIP.value].y]\n",
    "            knee=[landmarks[mp_pose.PoseLandmark.LEFT_KNEE.value].x,landmarks[mp_pose.PoseLandmark.LEFT_KNEE.value].y]\n",
    "            ankle=[landmarks[mp_pose.PoseLandmark.LEFT_ANKLE.value].x,landmarks[mp_pose.PoseLandmark.LEFT_ANKLE.value].y]\n",
    "            \n",
    "            #calculate angle\n",
    "            angle = calculate_angles(hip, knee, ankle)\n",
    "            \n",
    "            #visualize\n",
    "            cv2.putText(image,str(angle),\n",
    "                        tuple(np.multiply(knee,[640,480]).astype(int)),\n",
    "                        cv2.FONT_HERSHEY_SIMPLEX,0.5, (255,255,255),2,cv2.LINE_AA\n",
    "                       )\n",
    "\n",
    "            \n",
    "            print(landmarks)\n",
    "        except:\n",
    "            pass\n",
    "        \n",
    "        \n",
    "        \n",
    "        #Render detections\n",
    "        mp_drawing.draw_landmarks(image, results.pose_landmarks, mp_pose.POSE_CONNECTIONS,\n",
    "                                mp_drawing.DrawingSpec(color=(245,117,66), thickness=2, circle_radius=2),\n",
    "                                mp_drawing.DrawingSpec(color=(245,66,230), thickness=2, circle_radius=2)\n",
    "                                 )\n",
    "        \n",
    "        cv2.imshow('Mediapipe Feed', image)\n",
    "\n",
    "        \n",
    "        if cv2.waitKey(10) & 0xFF == ord('q'):\n",
    "            break\n",
    "        \n",
    "    cap.release()\n",
    "    cv2.destroyAllWindows()"
   ]
  },
  {
   "cell_type": "markdown",
   "id": "b6cad186",
   "metadata": {},
   "source": [
    "## 4. Curl Counter\n",
    "\n",
    "On enregistre la vidéo qui se trouvera sous le nom de gait_vid.avi (à ouvrir avec VLC).\n",
    "\n",
    "Ensuite on coupe la vidéo en frames, nommés frame_x.jpg."
   ]
  },
  {
   "cell_type": "code",
   "execution_count": 9,
   "id": "a4c4cb87",
   "metadata": {},
   "outputs": [],
   "source": [
    "video = cv2.VideoCapture(0)\n",
    "counter = 0 #compteur pour le comptage des mouvements\n",
    "stage = None\n",
    "\n",
    "if (video.isOpened() == False):\n",
    "    print(\"Error reading video file\")\n",
    "\n",
    "frame_width = int(video.get(3))\n",
    "frame_height = int(video.get(4))\n",
    "\n",
    "size = (frame_width, frame_height)\n",
    "\n",
    "result = cv2.VideoWriter('gait_vid.avi',cv2.VideoWriter_fourcc(*'MJPG'),10, size)\n",
    "\n",
    "\n",
    "with mp_pose.Pose(min_detection_confidence=0.5, min_tracking_confidence=0.5) as pose:\n",
    "    while video.isOpened():\n",
    "        ret, frame = video.read() ## frame : video sans aucun filtre\n",
    "    \n",
    "        # Recolor image to RGB\n",
    "        image = cv2.cvtColor(frame, cv2.COLOR_BGR2RGB) ## image : video avec mediapipe\n",
    "        image.flags.writeable = False\n",
    "    \n",
    "        #Make detection\n",
    "        results = pose.process(image)\n",
    "    \n",
    "        #Recolor image to BGR\n",
    "        image.flags.writeable = True\n",
    "        image = cv2.cvtColor(image, cv2.COLOR_RGB2BGR)\n",
    "        \n",
    "        #EXTRACT LANDMARKS\n",
    "        try:\n",
    "            landmarks = results.pose_landmarks.landmark\n",
    "\n",
    "            #get coordinates\n",
    "            hip=[landmarks[mp_pose.PoseLandmark.LEFT_HIP.value].x,landmarks[mp_pose.PoseLandmark.LEFT_HIP.value].y]\n",
    "            knee=[landmarks[mp_pose.PoseLandmark.LEFT_KNEE.value].x,landmarks[mp_pose.PoseLandmark.LEFT_KNEE.value].y]\n",
    "            ankle=[landmarks[mp_pose.PoseLandmark.LEFT_ANKLE.value].x,landmarks[mp_pose.PoseLandmark.LEFT_ANKLE.value].y]\n",
    "            \n",
    "            #calculate knee angle \n",
    "            angle = calculate_angles(hip, knee, ankle)\n",
    "            \n",
    "            #visualize\n",
    "            cv2.putText(image,str(angle) , tuple(np.multiply(knee,[640,480]).astype(int)),\n",
    "                        cv2.FONT_HERSHEY_SIMPLEX,0.5, (255,255,255),2,cv2.LINE_AA)\n",
    "            #curl counter logic\n",
    "            if angle < 160:\n",
    "                stage = \"down\"\n",
    "            if angle > 160 and stage == \"down\":\n",
    "                stage = \"up\"\n",
    "                counter +=1\n",
    "                \n",
    "            #print(landmarks)\n",
    "        except:\n",
    "            pass\n",
    "        \n",
    "        #Render detections\n",
    "        mp_drawing.draw_landmarks(image, results.pose_landmarks, mp_pose.POSE_CONNECTIONS,\n",
    "                                mp_drawing.DrawingSpec(color=(245,117,66), thickness=2, circle_radius=2),\n",
    "                                mp_drawing.DrawingSpec(color=(245,66,230), thickness=2, circle_radius=2))\n",
    "\n",
    "        cv2.imshow('Gait + Mediapipe', image)\n",
    "        \n",
    "        if ret == True:\n",
    "            #result.write(frame)\n",
    "            result.write(image)\n",
    "            #cv2.imshow('Gait', frame)\n",
    "\n",
    "            if counter == 2 or cv2.waitKey(1) & 0xFF == ord('q'):\n",
    "                break\n",
    "\n",
    "        else:\n",
    "            break\n",
    "\n",
    "        \n",
    "    video.release()\n",
    "    result.release()\n",
    "    cv2.destroyAllWindows()\n",
    "\n",
    "vidcap = cv2.VideoCapture('gait_vid.avi')\n",
    "success,image = vidcap.read()\n",
    "count = 0\n",
    "while success:\n",
    "    cv2.imwrite(\"frame_%d.jpg\" % count, image)     # save frame as JPEG file      \n",
    "    success,image = vidcap.read()\n",
    "    #print('Read a new frame: ', success)\n",
    "    count += 1"
   ]
  },
  {
   "cell_type": "code",
   "execution_count": 10,
   "id": "df111a48",
   "metadata": {},
   "outputs": [
    {
     "data": {
      "text/plain": [
       "0"
      ]
     },
     "execution_count": 10,
     "metadata": {},
     "output_type": "execute_result"
    }
   ],
   "source": [
    "counter "
   ]
  },
  {
   "cell_type": "code",
   "execution_count": null,
   "id": "c5c75b79",
   "metadata": {},
   "outputs": [],
   "source": [
    "# a faire : afficher sur l'écran le nb de pas effectués\n"
   ]
  }
 ],
 "metadata": {
  "kernelspec": {
   "display_name": "Python 3 (ipykernel)",
   "language": "python",
   "name": "python3"
  },
  "language_info": {
   "codemirror_mode": {
    "name": "ipython",
    "version": 3
   },
   "file_extension": ".py",
   "mimetype": "text/x-python",
   "name": "python",
   "nbconvert_exporter": "python",
   "pygments_lexer": "ipython3",
   "version": "3.9.12"
  }
 },
 "nbformat": 4,
 "nbformat_minor": 5
}
